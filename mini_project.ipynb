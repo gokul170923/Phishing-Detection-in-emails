{
 "cells": [
  {
   "cell_type": "markdown",
   "id": "060cfe4e-f9f6-4967-bc9b-479f6ac5ae55",
   "metadata": {},
   "source": [
    "# **PHISHING AND MALICIOUS LINK DETECTION**"
   ]
  },
  {
   "cell_type": "markdown",
   "id": "ed1ef9f4-e417-46a8-becd-9e3dfeb2808d",
   "metadata": {},
   "source": [
    "# (i).NLP PART :\n",
    "    1.DATA ACQUISITION\n",
    "    2.TEXT PREPROCESSING\n",
    "    3.DATASET VIZUALIZATION\n",
    "    4.TEXT VECTORIZATION\n",
    "    5.MODELING\n",
    "    6.PREDICTION"
   ]
  },
  {
   "cell_type": "markdown",
   "id": "bdfe9acb-f162-4fc0-b4b2-46ddb4f83ed5",
   "metadata": {},
   "source": [
    "## 1. IMPORTING DATASET"
   ]
  },
  {
   "cell_type": "code",
   "execution_count": 1,
   "id": "1e52b307-f987-49cc-a6ac-609439481604",
   "metadata": {},
   "outputs": [],
   "source": [
    "import pandas as pd                                        # pandas for fataframe and series"
   ]
  },
  {
   "cell_type": "code",
   "execution_count": 2,
   "id": "227156a3-9e0c-4f6d-ac76-cba94f996d0a",
   "metadata": {},
   "outputs": [],
   "source": [
    "df = pd.read_csv('cleaned_TREC_06.csv')                    # read the dataset"
   ]
  },
  {
   "cell_type": "code",
   "execution_count": 3,
   "id": "3eaa0cfb-2d90-4084-a7a7-2cb5a228815d",
   "metadata": {},
   "outputs": [
    {
     "data": {
      "text/html": [
       "<div>\n",
       "<style scoped>\n",
       "    .dataframe tbody tr th:only-of-type {\n",
       "        vertical-align: middle;\n",
       "    }\n",
       "\n",
       "    .dataframe tbody tr th {\n",
       "        vertical-align: top;\n",
       "    }\n",
       "\n",
       "    .dataframe thead th {\n",
       "        text-align: right;\n",
       "    }\n",
       "</style>\n",
       "<table border=\"1\" class=\"dataframe\">\n",
       "  <thead>\n",
       "    <tr style=\"text-align: right;\">\n",
       "      <th></th>\n",
       "      <th>sender</th>\n",
       "      <th>receiver</th>\n",
       "      <th>date</th>\n",
       "      <th>subject</th>\n",
       "      <th>body</th>\n",
       "      <th>label</th>\n",
       "      <th>urls</th>\n",
       "    </tr>\n",
       "  </thead>\n",
       "  <tbody>\n",
       "    <tr>\n",
       "      <th>0</th>\n",
       "      <td>jhpb@sarto.budd-lake.nj.us</td>\n",
       "      <td>NaN</td>\n",
       "      <td>Tue, 28 Jul 1992 03:13:55 +0000</td>\n",
       "      <td>new Catholic mailing list now up and running</td>\n",
       "      <td>The mailing list I queried about a few weeks a...</td>\n",
       "      <td>0.0</td>\n",
       "      <td>0.0</td>\n",
       "    </tr>\n",
       "    <tr>\n",
       "      <th>1</th>\n",
       "      <td>Stella Lowry &lt;rookcuduq@yahoo.com&gt;</td>\n",
       "      <td>Brian &lt;bernice@groucho.cs.psu.edu&gt;</td>\n",
       "      <td>Sat, 03 Apr 1993 10:34:36 -0500</td>\n",
       "      <td>re[12]:</td>\n",
       "      <td>\\n                                 ...</td>\n",
       "      <td>1.0</td>\n",
       "      <td>1.0</td>\n",
       "    </tr>\n",
       "    <tr>\n",
       "      <th>2</th>\n",
       "      <td>Walter &lt;trwmpca@downtowncumberland.com&gt;</td>\n",
       "      <td>arline@groucho.cs.psu.edu</td>\n",
       "      <td>Tue, 06 Apr 1993 20:33:13 -0600</td>\n",
       "      <td>Take a moment to explore this.</td>\n",
       "      <td>Academic Qualifications available from prestig...</td>\n",
       "      <td>1.0</td>\n",
       "      <td>0.0</td>\n",
       "    </tr>\n",
       "    <tr>\n",
       "      <th>3</th>\n",
       "      <td>Scott Schwartz &lt;schwartz@groucho.cs.psu.edu&gt;</td>\n",
       "      <td>9fans &lt;plan9-fans@cs.psu.edu&gt;</td>\n",
       "      <td>Fri, 09 Apr 1993 14:29:43 -0400</td>\n",
       "      <td>Greetings</td>\n",
       "      <td>Greetings all.  This is to verify your subscri...</td>\n",
       "      <td>0.0</td>\n",
       "      <td>0.0</td>\n",
       "    </tr>\n",
       "    <tr>\n",
       "      <th>4</th>\n",
       "      <td>Mr Jailyn Koepke &lt;kiflsbizc@attheworld.com&gt;</td>\n",
       "      <td>melvin@groucho.cs.psu.edu</td>\n",
       "      <td>Fri, 09 Apr 1993 21:31:58 -0800</td>\n",
       "      <td>LOANS @ 3.17% (27 term)</td>\n",
       "      <td>try chauncey may conferred the luscious not co...</td>\n",
       "      <td>1.0</td>\n",
       "      <td>0.0</td>\n",
       "    </tr>\n",
       "  </tbody>\n",
       "</table>\n",
       "</div>"
      ],
      "text/plain": [
       "                                         sender  \\\n",
       "0                    jhpb@sarto.budd-lake.nj.us   \n",
       "1            Stella Lowry <rookcuduq@yahoo.com>   \n",
       "2       Walter <trwmpca@downtowncumberland.com>   \n",
       "3  Scott Schwartz <schwartz@groucho.cs.psu.edu>   \n",
       "4   Mr Jailyn Koepke <kiflsbizc@attheworld.com>   \n",
       "\n",
       "                             receiver                             date  \\\n",
       "0                                 NaN  Tue, 28 Jul 1992 03:13:55 +0000   \n",
       "1  Brian <bernice@groucho.cs.psu.edu>  Sat, 03 Apr 1993 10:34:36 -0500   \n",
       "2           arline@groucho.cs.psu.edu  Tue, 06 Apr 1993 20:33:13 -0600   \n",
       "3       9fans <plan9-fans@cs.psu.edu>  Fri, 09 Apr 1993 14:29:43 -0400   \n",
       "4           melvin@groucho.cs.psu.edu  Fri, 09 Apr 1993 21:31:58 -0800   \n",
       "\n",
       "                                        subject  \\\n",
       "0  new Catholic mailing list now up and running   \n",
       "1                                       re[12]:   \n",
       "2                Take a moment to explore this.   \n",
       "3                                     Greetings   \n",
       "4                       LOANS @ 3.17% (27 term)   \n",
       "\n",
       "                                                body  label  urls  \n",
       "0  The mailing list I queried about a few weeks a...    0.0   0.0  \n",
       "1             \\n                                 ...    1.0   1.0  \n",
       "2  Academic Qualifications available from prestig...    1.0   0.0  \n",
       "3  Greetings all.  This is to verify your subscri...    0.0   0.0  \n",
       "4  try chauncey may conferred the luscious not co...    1.0   0.0  "
      ]
     },
     "execution_count": 3,
     "metadata": {},
     "output_type": "execute_result"
    }
   ],
   "source": [
    "df.head(5)"
   ]
  },
  {
   "cell_type": "markdown",
   "id": "51a17b70-6a9b-4d55-bb95-e6ddeadbbb0c",
   "metadata": {},
   "source": [
    "## 2.PREPROCESSING\n",
    "\n",
    "*   removing missing data\n",
    "*   uniforming datatypes\n",
    "*   lowercasing\n",
    "*   removing stopwards and unrelated parts\n"
   ]
  },
  {
   "cell_type": "code",
   "execution_count": 4,
   "id": "d801c6a8-041e-4511-af5b-97e8b5d27609",
   "metadata": {},
   "outputs": [
    {
     "name": "stdout",
     "output_type": "stream",
     "text": [
      "[<class 'float'>]\n"
     ]
    }
   ],
   "source": [
    "unique_types = df['label'].apply(type).unique()                 # labels were not integer\n",
    "print(unique_types)"
   ]
  },
  {
   "cell_type": "code",
   "execution_count": 5,
   "id": "01232b0b-b9ff-4594-88cc-15734f307526",
   "metadata": {},
   "outputs": [
    {
     "name": "stderr",
     "output_type": "stream",
     "text": [
      "C:\\Users\\Aspire\\AppData\\Local\\Temp\\ipykernel_20456\\2804148783.py:2: FutureWarning: Downcasting behavior in `replace` is deprecated and will be removed in a future version. To retain the old behavior, explicitly call `result.infer_objects(copy=False)`. To opt-in to the future behavior, set `pd.set_option('future.no_silent_downcasting', True)`\n",
      "  df['label'] = df['label'].replace(\"\", 1.0)                      # remove empty labels\n"
     ]
    }
   ],
   "source": [
    "df['label'] = df['label'].fillna(\"\")                            # remove NaN\n",
    "df['label'] = df['label'].replace(\"\", 1.0)                      # remove empty labels\n",
    "df['label'] = df['label'].astype(int)                           # convertion to int\n"
   ]
  },
  {
   "cell_type": "code",
   "execution_count": 6,
   "id": "29692a3b-f949-40b4-8159-9064b2daa5a6",
   "metadata": {},
   "outputs": [
    {
     "name": "stdout",
     "output_type": "stream",
     "text": [
      "[<class 'int'>]\n"
     ]
    }
   ],
   "source": [
    "unique_types = df['label'].apply(type).unique()\n",
    "print(unique_types)"
   ]
  },
  {
   "cell_type": "code",
   "execution_count": 7,
   "id": "8989aee2-3c14-474f-88af-0ad79bbf3e63",
   "metadata": {},
   "outputs": [],
   "source": [
    "df = df.fillna(\"\")                                              # for rest of the dataset"
   ]
  },
  {
   "cell_type": "code",
   "execution_count": 8,
   "id": "e8cac1a9-36ef-4cf6-97c9-a4d7a8fa1df3",
   "metadata": {},
   "outputs": [],
   "source": [
    "df['subject'] = df['subject'].str.lower()                       # lower casing the textual data for uniformity\n",
    "df['body'] = df['body'].str.lower()"
   ]
  },
  {
   "cell_type": "code",
   "execution_count": 9,
   "id": "b841fd63-f44d-4482-a186-8a94be6bb2f7",
   "metadata": {},
   "outputs": [],
   "source": [
    "import regex as re                                              # import regular expressions\n",
    "def cleanEmail(EmailText):\n",
    "    EmailText = re.sub('http\\S+\\s*', ' ', EmailText)  # remove URLs\n",
    "    \n",
    "    EmailText = re.sub('RT|cc', ' ', EmailText)       # remove RT and cc\n",
    "    \n",
    "    EmailText = re.sub('#\\S+', '', EmailText)         # remove hashtags\n",
    "    \n",
    "    EmailText = re.sub('@\\S+', '  ', EmailText)       # remove mentions\n",
    "    \n",
    "    EmailText = re.sub('[%s]' % re.escape(\"\"\"!\"#$%&'()*+,-./:;<=>?@[\\]^_`{|}~\"\"\"), ' ', EmailText)  # remove punctuations\n",
    "    \n",
    "    EmailText = re.sub(r'[^\\x00-\\x7f]',r' ', EmailText)\n",
    "    \n",
    "    EmailText = re.sub('\\s+', ' ', EmailText)         # remove extra whitespace\n",
    "    \n",
    "    return EmailText"
   ]
  },
  {
   "cell_type": "code",
   "execution_count": 10,
   "id": "457f10ae-e888-4e68-bbee-dcd7bda4bdf3",
   "metadata": {},
   "outputs": [],
   "source": [
    "df['Cleaned subject'] = df['subject'].apply(lambda x:cleanEmail(x))                     # remove unwanted stuff\n",
    "df['Cleaned body'] = df['body'].apply(lambda x:cleanEmail(x))"
   ]
  },
  {
   "cell_type": "code",
   "execution_count": 11,
   "id": "b4deae93-b512-43e8-b4d3-48161da2b30e",
   "metadata": {},
   "outputs": [
    {
     "data": {
      "text/html": [
       "<div>\n",
       "<style scoped>\n",
       "    .dataframe tbody tr th:only-of-type {\n",
       "        vertical-align: middle;\n",
       "    }\n",
       "\n",
       "    .dataframe tbody tr th {\n",
       "        vertical-align: top;\n",
       "    }\n",
       "\n",
       "    .dataframe thead th {\n",
       "        text-align: right;\n",
       "    }\n",
       "</style>\n",
       "<table border=\"1\" class=\"dataframe\">\n",
       "  <thead>\n",
       "    <tr style=\"text-align: right;\">\n",
       "      <th></th>\n",
       "      <th>sender</th>\n",
       "      <th>receiver</th>\n",
       "      <th>date</th>\n",
       "      <th>subject</th>\n",
       "      <th>body</th>\n",
       "      <th>label</th>\n",
       "      <th>urls</th>\n",
       "      <th>Cleaned subject</th>\n",
       "      <th>Cleaned body</th>\n",
       "    </tr>\n",
       "  </thead>\n",
       "  <tbody>\n",
       "    <tr>\n",
       "      <th>0</th>\n",
       "      <td>jhpb@sarto.budd-lake.nj.us</td>\n",
       "      <td></td>\n",
       "      <td>Tue, 28 Jul 1992 03:13:55 +0000</td>\n",
       "      <td>new catholic mailing list now up and running</td>\n",
       "      <td>the mailing list i queried about a few weeks a...</td>\n",
       "      <td>0</td>\n",
       "      <td>0.0</td>\n",
       "      <td>new catholic mailing list now up and running</td>\n",
       "      <td>the mailing list i queried about a few weeks a...</td>\n",
       "    </tr>\n",
       "    <tr>\n",
       "      <th>1</th>\n",
       "      <td>Stella Lowry &lt;rookcuduq@yahoo.com&gt;</td>\n",
       "      <td>Brian &lt;bernice@groucho.cs.psu.edu&gt;</td>\n",
       "      <td>Sat, 03 Apr 1993 10:34:36 -0500</td>\n",
       "      <td>re[12]:</td>\n",
       "      <td>\\n                                 ...</td>\n",
       "      <td>1</td>\n",
       "      <td>1.0</td>\n",
       "      <td>re 12</td>\n",
       "      <td>luxury watches buy your own rolex for only 21...</td>\n",
       "    </tr>\n",
       "    <tr>\n",
       "      <th>2</th>\n",
       "      <td>Walter &lt;trwmpca@downtowncumberland.com&gt;</td>\n",
       "      <td>arline@groucho.cs.psu.edu</td>\n",
       "      <td>Tue, 06 Apr 1993 20:33:13 -0600</td>\n",
       "      <td>take a moment to explore this.</td>\n",
       "      <td>academic qualifications available from prestig...</td>\n",
       "      <td>1</td>\n",
       "      <td>0.0</td>\n",
       "      <td>take a moment to explore this</td>\n",
       "      <td>academic qualifications available from prestig...</td>\n",
       "    </tr>\n",
       "    <tr>\n",
       "      <th>3</th>\n",
       "      <td>Scott Schwartz &lt;schwartz@groucho.cs.psu.edu&gt;</td>\n",
       "      <td>9fans &lt;plan9-fans@cs.psu.edu&gt;</td>\n",
       "      <td>Fri, 09 Apr 1993 14:29:43 -0400</td>\n",
       "      <td>greetings</td>\n",
       "      <td>greetings all.  this is to verify your subscri...</td>\n",
       "      <td>0</td>\n",
       "      <td>0.0</td>\n",
       "      <td>greetings</td>\n",
       "      <td>greetings all this is to verify your subscript...</td>\n",
       "    </tr>\n",
       "    <tr>\n",
       "      <th>4</th>\n",
       "      <td>Mr Jailyn Koepke &lt;kiflsbizc@attheworld.com&gt;</td>\n",
       "      <td>melvin@groucho.cs.psu.edu</td>\n",
       "      <td>Fri, 09 Apr 1993 21:31:58 -0800</td>\n",
       "      <td>loans @ 3.17% (27 term)</td>\n",
       "      <td>try chauncey may conferred the luscious not co...</td>\n",
       "      <td>1</td>\n",
       "      <td>0.0</td>\n",
       "      <td>loans 3 17 27 term</td>\n",
       "      <td>try chauncey may conferred the luscious not co...</td>\n",
       "    </tr>\n",
       "  </tbody>\n",
       "</table>\n",
       "</div>"
      ],
      "text/plain": [
       "                                         sender  \\\n",
       "0                    jhpb@sarto.budd-lake.nj.us   \n",
       "1            Stella Lowry <rookcuduq@yahoo.com>   \n",
       "2       Walter <trwmpca@downtowncumberland.com>   \n",
       "3  Scott Schwartz <schwartz@groucho.cs.psu.edu>   \n",
       "4   Mr Jailyn Koepke <kiflsbizc@attheworld.com>   \n",
       "\n",
       "                             receiver                             date  \\\n",
       "0                                      Tue, 28 Jul 1992 03:13:55 +0000   \n",
       "1  Brian <bernice@groucho.cs.psu.edu>  Sat, 03 Apr 1993 10:34:36 -0500   \n",
       "2           arline@groucho.cs.psu.edu  Tue, 06 Apr 1993 20:33:13 -0600   \n",
       "3       9fans <plan9-fans@cs.psu.edu>  Fri, 09 Apr 1993 14:29:43 -0400   \n",
       "4           melvin@groucho.cs.psu.edu  Fri, 09 Apr 1993 21:31:58 -0800   \n",
       "\n",
       "                                        subject  \\\n",
       "0  new catholic mailing list now up and running   \n",
       "1                                       re[12]:   \n",
       "2                take a moment to explore this.   \n",
       "3                                     greetings   \n",
       "4                       loans @ 3.17% (27 term)   \n",
       "\n",
       "                                                body  label urls  \\\n",
       "0  the mailing list i queried about a few weeks a...      0  0.0   \n",
       "1             \\n                                 ...      1  1.0   \n",
       "2  academic qualifications available from prestig...      1  0.0   \n",
       "3  greetings all.  this is to verify your subscri...      0  0.0   \n",
       "4  try chauncey may conferred the luscious not co...      1  0.0   \n",
       "\n",
       "                                Cleaned subject  \\\n",
       "0  new catholic mailing list now up and running   \n",
       "1                                        re 12    \n",
       "2                take a moment to explore this    \n",
       "3                                     greetings   \n",
       "4                           loans 3 17 27 term    \n",
       "\n",
       "                                        Cleaned body  \n",
       "0  the mailing list i queried about a few weeks a...  \n",
       "1   luxury watches buy your own rolex for only 21...  \n",
       "2  academic qualifications available from prestig...  \n",
       "3  greetings all this is to verify your subscript...  \n",
       "4  try chauncey may conferred the luscious not co...  "
      ]
     },
     "execution_count": 11,
     "metadata": {},
     "output_type": "execute_result"
    }
   ],
   "source": [
    "df.head(5)                                            # after cleaning "
   ]
  },
  {
   "cell_type": "markdown",
   "id": "4a135ba7-2b81-40a1-9cd9-4dd7edb09e40",
   "metadata": {},
   "source": [
    "# 3.VISUALIZATION"
   ]
  },
  {
   "cell_type": "code",
   "execution_count": 12,
   "id": "7594c087-546b-4577-967a-7eef13b4d46e",
   "metadata": {},
   "outputs": [
    {
     "data": {
      "image/png": "[encoded data removed]",
      "text/plain": [
       "<Figure size 640x480 with 1 Axes>"
      ]
     },
     "metadata": {},
     "output_type": "display_data"
    }
   ],
   "source": [
    "from matplotlib import pyplot as plt\n",
    "plt.hist(df['label'],bins = 3)                             # 0 is safe and 1 is unsafe\n",
    "plt.xlabel('Email Type')                                   # since the dataset is of ratio 1:3 we will dead with it later\n",
    "plt.ylabel('Count')\n",
    "plt.title('Distribution of Email Types')\n",
    "plt.show()"
   ]
  },
  {
   "cell_type": "markdown",
   "id": "7b7e4292-dbfe-4289-9b13-8a362e5d42ca",
   "metadata": {},
   "source": [
    "# 4.TEXT VECTORIZATION\n",
    "    1. LABEL ENCODING - the labels in dataset are already encoded to 0 , 1 \n",
    "    2. VECTORIZATION "
   ]
  },
  {
   "cell_type": "code",
   "execution_count": 13,
   "id": "f82d0769-63f3-4336-96bb-44d98234b4e7",
   "metadata": {},
   "outputs": [],
   "source": [
    "from sklearn.feature_extraction.text import TfidfVectorizer             # term frequency - inverse document frequency vectorizer"
   ]
  },
  {
   "cell_type": "code",
   "execution_count": 14,
   "id": "0bce1607-9400-4bc6-859f-bd24cebb081f",
   "metadata": {},
   "outputs": [],
   "source": [
    "# since subject and body are our independent variables vectorize them \n",
    "# using tf-idf with n-gram ( unigram , bigram ) and ignoring stopwards\n",
    "\n",
    "subject_vectorizer = TfidfVectorizer(stop_words='english', ngram_range=(1, 2))\n",
    "body_vectorizer = TfidfVectorizer(stop_words='english', ngram_range=(1, 2))\n",
    "\n",
    "subject_vectorizer.fit(df['Cleaned subject'])\n",
    "ResultOfVectorizer_subject = subject_vectorizer.transform(df['Cleaned subject'])\n",
    "\n",
    "body_vectorizer.fit(df['Cleaned body'])\n",
    "ResultOfVectorizer_body = body_vectorizer.transform(df['Cleaned body'])\n"
   ]
  },
  {
   "cell_type": "code",
   "execution_count": null,
   "id": "1081ec19-0be1-4c90-a624-6ef19f45dc29",
   "metadata": {},
   "outputs": [],
   "source": [
    "from scipy.sparse import hstack\n",
    "# Combine features since we have two independent variables\n",
    "X = hstack([ResultOfVectorizer_subject, ResultOfVectorizer_body])\n",
    "y = df['label']"
   ]
  },
  {
   "cell_type": "code",
   "execution_count": 16,
   "id": "4909a6a6-7c44-4dfd-8eb6-1275dd49e9df",
   "metadata": {},
   "outputs": [],
   "source": [
    "from imblearn.over_sampling import SMOTE                            # remember we had a 1:3 ratio we use SMOTE for that "
   ]
  },
  {
   "cell_type": "code",
   "execution_count": 17,
   "id": "9ad32dd3-8607-44e6-9279-f06c876496a3",
   "metadata": {},
   "outputs": [],
   "source": [
    "# Handle class imbalance using SMOTE\n",
    "#SMOTE helps by creating synthetic examples of the minority class. improving its ability to generalize and detect phishing emails.\n",
    "smote = SMOTE(random_state=42)\n",
    "X_resampled, y_resampled = smote.fit_resample(X, y)"
   ]
  },
  {
   "cell_type": "code",
   "execution_count": 18,
   "id": "2c0ab663-3831-4cc2-bc83-68825d73edff",
   "metadata": {},
   "outputs": [],
   "source": [
    "from sklearn.model_selection import train_test_split                # split the dataset into testing and training"
   ]
  },
  {
   "cell_type": "code",
   "execution_count": 19,
   "id": "78d58667-2f7e-43d2-be05-eb92c40dd635",
   "metadata": {},
   "outputs": [],
   "source": [
    "# Split data\n",
    "x_train, x_test, y_train, y_test = train_test_split(X_resampled, y_resampled, test_size=0.2, random_state=42)"
   ]
  },
  {
   "cell_type": "markdown",
   "id": "0c4b1492-6f43-465a-b68b-dadad79e5961",
   "metadata": {},
   "source": [
    "# 5.MODELING"
   ]
  },
  {
   "cell_type": "code",
   "execution_count": 20,
   "id": "e90e9bc0-9452-46d5-85d6-c3477f239b62",
   "metadata": {},
   "outputs": [],
   "source": [
    "from sklearn.ensemble import RandomForestClassifier                  # training a random forest classifier"
   ]
  },
  {
   "cell_type": "code",
   "execution_count": 22,
   "id": "2d0e1ff8-fc1d-4208-a991-f81b4cee37c1",
   "metadata": {},
   "outputs": [
    {
     "data": {
      "text/html": [
       "<style>#sk-container-id-1 {\n",
       "  /* Definition of color scheme common for light and dark mode */\n",
       "  --sklearn-color-text: black;\n",
       "  --sklearn-color-line: gray;\n",
       "  /* Definition of color scheme for unfitted estimators */\n",
       "  --sklearn-color-unfitted-level-0: #fff5e6;\n",
       "  --sklearn-color-unfitted-level-1: #f6e4d2;\n",
       "  --sklearn-color-unfitted-level-2: #ffe0b3;\n",
       "  --sklearn-color-unfitted-level-3: chocolate;\n",
       "  /* Definition of color scheme for fitted estimators */\n",
       "  --sklearn-color-fitted-level-0: #f0f8ff;\n",
       "  --sklearn-color-fitted-level-1: #d4ebff;\n",
       "  --sklearn-color-fitted-level-2: #b3dbfd;\n",
       "  --sklearn-color-fitted-level-3: cornflowerblue;\n",
       "\n",
       "  /* Specific color for light theme */\n",
       "  --sklearn-color-text-on-default-background: var(--sg-text-color, var(--theme-code-foreground, var(--jp-content-font-color1, black)));\n",
       "  --sklearn-color-background: var(--sg-background-color, var(--theme-background, var(--jp-layout-color0, white)));\n",
       "  --sklearn-color-border-box: var(--sg-text-color, var(--theme-code-foreground, var(--jp-content-font-color1, black)));\n",
       "  --sklearn-color-icon: #696969;\n",
       "\n",
       "  @media (prefers-color-scheme: dark) {\n",
       "    /* Redefinition of color scheme for dark theme */\n",
       "    --sklearn-color-text-on-default-background: var(--sg-text-color, var(--theme-code-foreground, var(--jp-content-font-color1, white)));\n",
       "    --sklearn-color-background: var(--sg-background-color, var(--theme-background, var(--jp-layout-color0, #111)));\n",
       "    --sklearn-color-border-box: var(--sg-text-color, var(--theme-code-foreground, var(--jp-content-font-color1, white)));\n",
       "    --sklearn-color-icon: #878787;\n",
       "  }\n",
       "}\n",
       "\n",
       "#sk-container-id-1 {\n",
       "  color: var(--sklearn-color-text);\n",
       "}\n",
       "\n",
       "#sk-container-id-1 pre {\n",
       "  padding: 0;\n",
       "}\n",
       "\n",
       "#sk-container-id-1 input.sk-hidden--visually {\n",
       "  border: 0;\n",
       "  clip: rect(1px 1px 1px 1px);\n",
       "  clip: rect(1px, 1px, 1px, 1px);\n",
       "  height: 1px;\n",
       "  margin: -1px;\n",
       "  overflow: hidden;\n",
       "  padding: 0;\n",
       "  position: absolute;\n",
       "  width: 1px;\n",
       "}\n",
       "\n",
       "#sk-container-id-1 div.sk-dashed-wrapped {\n",
       "  border: 1px dashed var(--sklearn-color-line);\n",
       "  margin: 0 0.4em 0.5em 0.4em;\n",
       "  box-sizing: border-box;\n",
       "  padding-bottom: 0.4em;\n",
       "  background-color: var(--sklearn-color-background);\n",
       "}\n",
       "\n",
       "#sk-container-id-1 div.sk-container {\n",
       "  /* jupyter's `normalize.less` sets `[hidden] { display: none; }`\n",
       "     but bootstrap.min.css set `[hidden] { display: none !important; }`\n",
       "     so we also need the `!important` here to be able to override the\n",
       "     default hidden behavior on the sphinx rendered scikit-learn.org.\n",
       "     See: https://github.com/scikit-learn/scikit-learn/issues/21755 */\n",
       "  display: inline-block !important;\n",
       "  position: relative;\n",
       "}\n",
       "\n",
       "#sk-container-id-1 div.sk-text-repr-fallback {\n",
       "  display: none;\n",
       "}\n",
       "\n",
       "div.sk-parallel-item,\n",
       "div.sk-serial,\n",
       "div.sk-item {\n",
       "  /* draw centered vertical line to link estimators */\n",
       "  background-image: linear-gradient(var(--sklearn-color-text-on-default-background), var(--sklearn-color-text-on-default-background));\n",
       "  background-size: 2px 100%;\n",
       "  background-repeat: no-repeat;\n",
       "  background-position: center center;\n",
       "}\n",
       "\n",
       "/* Parallel-specific style estimator block */\n",
       "\n",
       "#sk-container-id-1 div.sk-parallel-item::after {\n",
       "  content: \"\";\n",
       "  width: 100%;\n",
       "  border-bottom: 2px solid var(--sklearn-color-text-on-default-background);\n",
       "  flex-grow: 1;\n",
       "}\n",
       "\n",
       "#sk-container-id-1 div.sk-parallel {\n",
       "  display: flex;\n",
       "  align-items: stretch;\n",
       "  justify-content: center;\n",
       "  background-color: var(--sklearn-color-background);\n",
       "  position: relative;\n",
       "}\n",
       "\n",
       "#sk-container-id-1 div.sk-parallel-item {\n",
       "  display: flex;\n",
       "  flex-direction: column;\n",
       "}\n",
       "\n",
       "#sk-container-id-1 div.sk-parallel-item:first-child::after {\n",
       "  align-self: flex-end;\n",
       "  width: 50%;\n",
       "}\n",
       "\n",
       "#sk-container-id-1 div.sk-parallel-item:last-child::after {\n",
       "  align-self: flex-start;\n",
       "  width: 50%;\n",
       "}\n",
       "\n",
       "#sk-container-id-1 div.sk-parallel-item:only-child::after {\n",
       "  width: 0;\n",
       "}\n",
       "\n",
       "/* Serial-specific style estimator block */\n",
       "\n",
       "#sk-container-id-1 div.sk-serial {\n",
       "  display: flex;\n",
       "  flex-direction: column;\n",
       "  align-items: center;\n",
       "  background-color: var(--sklearn-color-background);\n",
       "  padding-right: 1em;\n",
       "  padding-left: 1em;\n",
       "}\n",
       "\n",
       "\n",
       "/* Toggleable style: style used for estimator/Pipeline/ColumnTransformer box that is\n",
       "clickable and can be expanded/collapsed.\n",
       "- Pipeline and ColumnTransformer use this feature and define the default style\n",
       "- Estimators will overwrite some part of the style using the `sk-estimator` class\n",
       "*/\n",
       "\n",
       "/* Pipeline and ColumnTransformer style (default) */\n",
       "\n",
       "#sk-container-id-1 div.sk-toggleable {\n",
       "  /* Default theme specific background. It is overwritten whether we have a\n",
       "  specific estimator or a Pipeline/ColumnTransformer */\n",
       "  background-color: var(--sklearn-color-background);\n",
       "}\n",
       "\n",
       "/* Toggleable label */\n",
       "#sk-container-id-1 label.sk-toggleable__label {\n",
       "  cursor: pointer;\n",
       "  display: block;\n",
       "  width: 100%;\n",
       "  margin-bottom: 0;\n",
       "  padding: 0.5em;\n",
       "  box-sizing: border-box;\n",
       "  text-align: center;\n",
       "}\n",
       "\n",
       "#sk-container-id-1 label.sk-toggleable__label-arrow:before {\n",
       "  /* Arrow on the left of the label */\n",
       "  content: \"▸\";\n",
       "  float: left;\n",
       "  margin-right: 0.25em;\n",
       "  color: var(--sklearn-color-icon);\n",
       "}\n",
       "\n",
       "#sk-container-id-1 label.sk-toggleable__label-arrow:hover:before {\n",
       "  color: var(--sklearn-color-text);\n",
       "}\n",
       "\n",
       "/* Toggleable content - dropdown */\n",
       "\n",
       "#sk-container-id-1 div.sk-toggleable__content {\n",
       "  max-height: 0;\n",
       "  max-width: 0;\n",
       "  overflow: hidden;\n",
       "  text-align: left;\n",
       "  /* unfitted */\n",
       "  background-color: var(--sklearn-color-unfitted-level-0);\n",
       "}\n",
       "\n",
       "#sk-container-id-1 div.sk-toggleable__content.fitted {\n",
       "  /* fitted */\n",
       "  background-color: var(--sklearn-color-fitted-level-0);\n",
       "}\n",
       "\n",
       "#sk-container-id-1 div.sk-toggleable__content pre {\n",
       "  margin: 0.2em;\n",
       "  border-radius: 0.25em;\n",
       "  color: var(--sklearn-color-text);\n",
       "  /* unfitted */\n",
       "  background-color: var(--sklearn-color-unfitted-level-0);\n",
       "}\n",
       "\n",
       "#sk-container-id-1 div.sk-toggleable__content.fitted pre {\n",
       "  /* unfitted */\n",
       "  background-color: var(--sklearn-color-fitted-level-0);\n",
       "}\n",
       "\n",
       "#sk-container-id-1 input.sk-toggleable__control:checked~div.sk-toggleable__content {\n",
       "  /* Expand drop-down */\n",
       "  max-height: 200px;\n",
       "  max-width: 100%;\n",
       "  overflow: auto;\n",
       "}\n",
       "\n",
       "#sk-container-id-1 input.sk-toggleable__control:checked~label.sk-toggleable__label-arrow:before {\n",
       "  content: \"▾\";\n",
       "}\n",
       "\n",
       "/* Pipeline/ColumnTransformer-specific style */\n",
       "\n",
       "#sk-container-id-1 div.sk-label input.sk-toggleable__control:checked~label.sk-toggleable__label {\n",
       "  color: var(--sklearn-color-text);\n",
       "  background-color: var(--sklearn-color-unfitted-level-2);\n",
       "}\n",
       "\n",
       "#sk-container-id-1 div.sk-label.fitted input.sk-toggleable__control:checked~label.sk-toggleable__label {\n",
       "  background-color: var(--sklearn-color-fitted-level-2);\n",
       "}\n",
       "\n",
       "/* Estimator-specific style */\n",
       "\n",
       "/* Colorize estimator box */\n",
       "#sk-container-id-1 div.sk-estimator input.sk-toggleable__control:checked~label.sk-toggleable__label {\n",
       "  /* unfitted */\n",
       "  background-color: var(--sklearn-color-unfitted-level-2);\n",
       "}\n",
       "\n",
       "#sk-container-id-1 div.sk-estimator.fitted input.sk-toggleable__control:checked~label.sk-toggleable__label {\n",
       "  /* fitted */\n",
       "  background-color: var(--sklearn-color-fitted-level-2);\n",
       "}\n",
       "\n",
       "#sk-container-id-1 div.sk-label label.sk-toggleable__label,\n",
       "#sk-container-id-1 div.sk-label label {\n",
       "  /* The background is the default theme color */\n",
       "  color: var(--sklearn-color-text-on-default-background);\n",
       "}\n",
       "\n",
       "/* On hover, darken the color of the background */\n",
       "#sk-container-id-1 div.sk-label:hover label.sk-toggleable__label {\n",
       "  color: var(--sklearn-color-text);\n",
       "  background-color: var(--sklearn-color-unfitted-level-2);\n",
       "}\n",
       "\n",
       "/* Label box, darken color on hover, fitted */\n",
       "#sk-container-id-1 div.sk-label.fitted:hover label.sk-toggleable__label.fitted {\n",
       "  color: var(--sklearn-color-text);\n",
       "  background-color: var(--sklearn-color-fitted-level-2);\n",
       "}\n",
       "\n",
       "/* Estimator label */\n",
       "\n",
       "#sk-container-id-1 div.sk-label label {\n",
       "  font-family: monospace;\n",
       "  font-weight: bold;\n",
       "  display: inline-block;\n",
       "  line-height: 1.2em;\n",
       "}\n",
       "\n",
       "#sk-container-id-1 div.sk-label-container {\n",
       "  text-align: center;\n",
       "}\n",
       "\n",
       "/* Estimator-specific */\n",
       "#sk-container-id-1 div.sk-estimator {\n",
       "  font-family: monospace;\n",
       "  border: 1px dotted var(--sklearn-color-border-box);\n",
       "  border-radius: 0.25em;\n",
       "  box-sizing: border-box;\n",
       "  margin-bottom: 0.5em;\n",
       "  /* unfitted */\n",
       "  background-color: var(--sklearn-color-unfitted-level-0);\n",
       "}\n",
       "\n",
       "#sk-container-id-1 div.sk-estimator.fitted {\n",
       "  /* fitted */\n",
       "  background-color: var(--sklearn-color-fitted-level-0);\n",
       "}\n",
       "\n",
       "/* on hover */\n",
       "#sk-container-id-1 div.sk-estimator:hover {\n",
       "  /* unfitted */\n",
       "  background-color: var(--sklearn-color-unfitted-level-2);\n",
       "}\n",
       "\n",
       "#sk-container-id-1 div.sk-estimator.fitted:hover {\n",
       "  /* fitted */\n",
       "  background-color: var(--sklearn-color-fitted-level-2);\n",
       "}\n",
       "\n",
       "/* Specification for estimator info (e.g. \"i\" and \"?\") */\n",
       "\n",
       "/* Common style for \"i\" and \"?\" */\n",
       "\n",
       ".sk-estimator-doc-link,\n",
       "a:link.sk-estimator-doc-link,\n",
       "a:visited.sk-estimator-doc-link {\n",
       "  float: right;\n",
       "  font-size: smaller;\n",
       "  line-height: 1em;\n",
       "  font-family: monospace;\n",
       "  background-color: var(--sklearn-color-background);\n",
       "  border-radius: 1em;\n",
       "  height: 1em;\n",
       "  width: 1em;\n",
       "  text-decoration: none !important;\n",
       "  margin-left: 1ex;\n",
       "  /* unfitted */\n",
       "  border: var(--sklearn-color-unfitted-level-1) 1pt solid;\n",
       "  color: var(--sklearn-color-unfitted-level-1);\n",
       "}\n",
       "\n",
       ".sk-estimator-doc-link.fitted,\n",
       "a:link.sk-estimator-doc-link.fitted,\n",
       "a:visited.sk-estimator-doc-link.fitted {\n",
       "  /* fitted */\n",
       "  border: var(--sklearn-color-fitted-level-1) 1pt solid;\n",
       "  color: var(--sklearn-color-fitted-level-1);\n",
       "}\n",
       "\n",
       "/* On hover */\n",
       "div.sk-estimator:hover .sk-estimator-doc-link:hover,\n",
       ".sk-estimator-doc-link:hover,\n",
       "div.sk-label-container:hover .sk-estimator-doc-link:hover,\n",
       ".sk-estimator-doc-link:hover {\n",
       "  /* unfitted */\n",
       "  background-color: var(--sklearn-color-unfitted-level-3);\n",
       "  color: var(--sklearn-color-background);\n",
       "  text-decoration: none;\n",
       "}\n",
       "\n",
       "div.sk-estimator.fitted:hover .sk-estimator-doc-link.fitted:hover,\n",
       ".sk-estimator-doc-link.fitted:hover,\n",
       "div.sk-label-container:hover .sk-estimator-doc-link.fitted:hover,\n",
       ".sk-estimator-doc-link.fitted:hover {\n",
       "  /* fitted */\n",
       "  background-color: var(--sklearn-color-fitted-level-3);\n",
       "  color: var(--sklearn-color-background);\n",
       "  text-decoration: none;\n",
       "}\n",
       "\n",
       "/* Span, style for the box shown on hovering the info icon */\n",
       ".sk-estimator-doc-link span {\n",
       "  display: none;\n",
       "  z-index: 9999;\n",
       "  position: relative;\n",
       "  font-weight: normal;\n",
       "  right: .2ex;\n",
       "  padding: .5ex;\n",
       "  margin: .5ex;\n",
       "  width: min-content;\n",
       "  min-width: 20ex;\n",
       "  max-width: 50ex;\n",
       "  color: var(--sklearn-color-text);\n",
       "  box-shadow: 2pt 2pt 4pt #999;\n",
       "  /* unfitted */\n",
       "  background: var(--sklearn-color-unfitted-level-0);\n",
       "  border: .5pt solid var(--sklearn-color-unfitted-level-3);\n",
       "}\n",
       "\n",
       ".sk-estimator-doc-link.fitted span {\n",
       "  /* fitted */\n",
       "  background: var(--sklearn-color-fitted-level-0);\n",
       "  border: var(--sklearn-color-fitted-level-3);\n",
       "}\n",
       "\n",
       ".sk-estimator-doc-link:hover span {\n",
       "  display: block;\n",
       "}\n",
       "\n",
       "/* \"?\"-specific style due to the `<a>` HTML tag */\n",
       "\n",
       "#sk-container-id-1 a.estimator_doc_link {\n",
       "  float: right;\n",
       "  font-size: 1rem;\n",
       "  line-height: 1em;\n",
       "  font-family: monospace;\n",
       "  background-color: var(--sklearn-color-background);\n",
       "  border-radius: 1rem;\n",
       "  height: 1rem;\n",
       "  width: 1rem;\n",
       "  text-decoration: none;\n",
       "  /* unfitted */\n",
       "  color: var(--sklearn-color-unfitted-level-1);\n",
       "  border: var(--sklearn-color-unfitted-level-1) 1pt solid;\n",
       "}\n",
       "\n",
       "#sk-container-id-1 a.estimator_doc_link.fitted {\n",
       "  /* fitted */\n",
       "  border: var(--sklearn-color-fitted-level-1) 1pt solid;\n",
       "  color: var(--sklearn-color-fitted-level-1);\n",
       "}\n",
       "\n",
       "/* On hover */\n",
       "#sk-container-id-1 a.estimator_doc_link:hover {\n",
       "  /* unfitted */\n",
       "  background-color: var(--sklearn-color-unfitted-level-3);\n",
       "  color: var(--sklearn-color-background);\n",
       "  text-decoration: none;\n",
       "}\n",
       "\n",
       "#sk-container-id-1 a.estimator_doc_link.fitted:hover {\n",
       "  /* fitted */\n",
       "  background-color: var(--sklearn-color-fitted-level-3);\n",
       "}\n",
       "</style><div id=\"sk-container-id-1\" class=\"sk-top-container\"><div class=\"sk-text-repr-fallback\"><pre>RandomForestClassifier(class_weight=&#x27;balanced&#x27;, random_state=42)</pre><b>In a Jupyter environment, please rerun this cell to show the HTML representation or trust the notebook. <br />On GitHub, the HTML representation is unable to render, please try loading this page with nbviewer.org.</b></div><div class=\"sk-container\" hidden><div class=\"sk-item\"><div class=\"sk-estimator fitted sk-toggleable\"><input class=\"sk-toggleable__control sk-hidden--visually\" id=\"sk-estimator-id-1\" type=\"checkbox\" checked><label for=\"sk-estimator-id-1\" class=\"sk-toggleable__label fitted sk-toggleable__label-arrow fitted\">&nbsp;&nbsp;RandomForestClassifier<a class=\"sk-estimator-doc-link fitted\" rel=\"noreferrer\" target=\"_blank\" href=\"https://scikit-learn.org/1.5/modules/generated/sklearn.ensemble.RandomForestClassifier.html\">?<span>Documentation for RandomForestClassifier</span></a><span class=\"sk-estimator-doc-link fitted\">i<span>Fitted</span></span></label><div class=\"sk-toggleable__content fitted\"><pre>RandomForestClassifier(class_weight=&#x27;balanced&#x27;, random_state=42)</pre></div> </div></div></div></div>"
      ],
      "text/plain": [
       "RandomForestClassifier(class_weight='balanced', random_state=42)"
      ]
     },
     "execution_count": 22,
     "metadata": {},
     "output_type": "execute_result"
    }
   ],
   "source": [
    "                                                                    # Train a Random Forest Classifier\n",
    "rf_classifier = RandomForestClassifier(class_weight='balanced', random_state=42)\n",
    "rf_classifier.fit(x_train, y_train)"
   ]
  },
  {
   "cell_type": "code",
   "execution_count": 28,
   "id": "9ec7dbb8-c300-48ad-9b37-d630fa4dda1d",
   "metadata": {},
   "outputs": [],
   "source": [
    "                                                                  # Prediction on splited data\n",
    "y_pred = rf_classifier.predict(x_test)"
   ]
  },
  {
   "cell_type": "code",
   "execution_count": 30,
   "id": "bbd601e3-ae4b-481c-9342-71da26afcb2e",
   "metadata": {},
   "outputs": [
    {
     "name": "stdout",
     "output_type": "stream",
     "text": [
      "0.9861027190332327\n"
     ]
    }
   ],
   "source": [
    "from sklearn.metrics import accuracy_score                        #accuracy right/total\n",
    "print(accuracy_score(y_test,y_pred))"
   ]
  },
  {
   "cell_type": "code",
   "execution_count": 32,
   "id": "9388b8f8-b1b3-4852-9074-fa6ab6cc96a8",
   "metadata": {},
   "outputs": [
    {
     "name": "stdout",
     "output_type": "stream",
     "text": [
      "0.9861028441458066\n"
     ]
    }
   ],
   "source": [
    "from sklearn.metrics import precision_score                       # precision true + / total +\n",
    "print(precision_score(y_test,y_pred,average='weighted'))"
   ]
  },
  {
   "cell_type": "code",
   "execution_count": 37,
   "id": "440d2831-75ab-430a-b24d-260fac36e37f",
   "metadata": {},
   "outputs": [
    {
     "data": {
      "image/png": "[encoded data removed]",
      "text/plain": [
       "<Figure size 640x480 with 2 Axes>"
      ]
     },
     "metadata": {},
     "output_type": "display_data"
    }
   ],
   "source": [
    "from sklearn.metrics import confusion_matrix\n",
    "import seaborn as sns \n",
    "cm = confusion_matrix(y_test,y_pred)\n",
    "sns.heatmap(cm, annot=True,fmt='g')\n",
    "plt.ylabel('Prediction',fontsize=13)\n",
    "plt.xlabel('Actual',fontsize=13)\n",
    "plt.title('Confusion Matrix',fontsize=17)\n",
    "plt.show()"
   ]
  },
  {
   "cell_type": "markdown",
   "id": "c5dbd3f3-f3a2-4bd4-95d4-2c4516156046",
   "metadata": {},
   "source": [
    "# 6.SERIALIZATION\n",
    "dumping my vectoriser and classifier usibg pickle so i can use it later without running the model again "
   ]
  },
  {
   "cell_type": "code",
   "execution_count": 39,
   "id": "e4336240-3fd0-41d4-b7f5-5fdc00d6a77f",
   "metadata": {},
   "outputs": [],
   "source": [
    "import pickle\n",
    "pickle.dump(subject_vectorizer,open('subject_vectorizer.pkl','wb'))\n",
    "pickle.dump(body_vectorizer,open('body_vectorizer.pkl','wb'))\n",
    "pickle.dump(rf_classifier, open('my_classifier.pkl', 'wb'))"
   ]
  },
  {
   "cell_type": "markdown",
   "id": "0235272c-598d-4a80-87b0-b2a0369a5c44",
   "metadata": {},
   "source": [
    "# 7.PREDICTION"
   ]
  },
  {
   "cell_type": "code",
   "execution_count": 11,
   "id": "342d6d19-4455-4ef5-be35-4a836c21eb4c",
   "metadata": {},
   "outputs": [
    {
     "name": "stdout",
     "output_type": "stream",
     "text": [
      "[1 0 0]\n"
     ]
    }
   ],
   "source": [
    "# Load the trained classifier\n",
    "import pickle\n",
    "from scipy.sparse import hstack\n",
    "rf_classifier= pickle.load(open('my_classifier.pkl', 'rb'))\n",
    "subject_vectorizer= pickle.load(open('subject_vectorizer.pkl', 'rb'))\n",
    "body_vectorizer= pickle.load(open('body_vectorizer.pkl', 'rb'))\n",
    "\n",
    "\n",
    "# Prediction example with new emails\n",
    "email_subjects = [\"security alert\", \"Important: Password Update Required\",'project']\n",
    "email_bodies = [\n",
    "    '''dear gokul,\n",
    "    your google account might expire soon, click here to update.\n",
    "    https:bit.ly//www.google.com/\n",
    "    ''',\n",
    "    '''dear user,\n",
    "    your password will expire in 2 days. Please update your password immediately by clicking this link.\n",
    "    https://www.google.com/\n",
    "    ''',\n",
    "    '''dear gokul,\n",
    "    i was having trouble keeping track our project so i added it to the github via colabrations.\n",
    " '''\n",
    "]\n",
    "\n",
    "# Transform the text\n",
    "new_subject = subject_vectorizer.transform(email_subjects)\n",
    "new_body = body_vectorizer.transform(email_bodies)\n",
    "\n",
    "# Combine the features\n",
    "new_combined_features = hstack([new_subject, new_body])\n",
    "\n",
    "# Predict\n",
    "new_predictions = rf_classifier.predict(new_combined_features)\n",
    "print(new_predictions)  # 0 for genuine, 1 for phishing\n"
   ]
  },
  {
   "cell_type": "markdown",
   "id": "89578f53-42d8-4bb1-a53c-bc186e24b3ff",
   "metadata": {},
   "source": [
    "# (ii).RULE-BASED ELIMINATION:"
   ]
  },
  {
   "cell_type": "code",
   "execution_count": null,
   "id": "213dd8b5-0e36-4cdd-83e3-69b849d77559",
   "metadata": {},
   "outputs": [
    {
     "name": "stdout",
     "output_type": "stream",
     "text": [
      "dear dear\n",
      "user user\n",
      "your your\n",
      "google googly\n",
      "account account\n",
      "might might\n",
      "expire expire\n",
      "soon soon\n",
      "click click\n",
      "here here\n",
      "to to\n",
      "update update\n",
      "1\n"
     ]
    }
   ],
   "source": [
    "from spellchecker import SpellChecker\n",
    "\n",
    "spell = SpellChecker()\n",
    "\n",
    "text = \"dear user, your Google account might expire soon, click here to update.\"\n",
    "mistake = 0\n",
    "\n",
    "for word in text.split():\n",
    "    original_word = word.strip(\",.\")  # Strip punctuation\n",
    "    corrected_word = spell.correction(original_word)\n",
    "    \n",
    "    if original_word.lower() != corrected_word.lower():  # Compare original with corrected\n",
    "        mistake += 1\n",
    "\n",
    "print(mistake)\n"
   ]
  },
  {
   "cell_type": "code",
   "execution_count": 51,
   "id": "eabb2f08-9895-4da9-940a-032620ec66c4",
   "metadata": {},
   "outputs": [
    {
     "name": "stdout",
     "output_type": "stream",
     "text": [
      "1\n"
     ]
    }
   ],
   "source": [
    "# email address validation\n",
    "import re\n",
    "# if email address is with the name\n",
    "def parse_mail(text):\n",
    "    pattern = re.compile(r'<([^>]+)>')\n",
    "    match = pattern.search(text)\n",
    "    return (match.group(1) if match else \"\")\n",
    "    \n",
    "# about : https://pypi.org/project/email-validator/\n",
    "from email_validator import validate_email, EmailNotValidError\n",
    "def check(email):\n",
    "\ttry:\n",
    "\t\tv = validate_email(email) \n",
    "\t\treturn 0\n",
    "\texcept EmailNotValidError as e:\n",
    "\t\treturn 1\n",
    "\n",
    "# for i in df['sender']:\n",
    "#     email  = parse_mail(i)\n",
    "#     name = \"\"\n",
    "#     if(email!=\"\"):\n",
    "#          name = i.replace(f\"<{email}>\", \"\")\n",
    "#     print(name)\n",
    "#     print(check(email))\n",
    "\n",
    "print(check('johb@sarto.buddlake.com'))"
   ]
  },
  {
   "cell_type": "code",
   "execution_count": 7,
   "id": "4a2e89fb-f4d6-4746-8c21-b1b56fefa1b1",
   "metadata": {},
   "outputs": [
    {
     "name": "stdout",
     "output_type": "stream",
     "text": [
      "False\n"
     ]
    }
   ],
   "source": [
    "# url validation using get request\n",
    "import re\n",
    "#extract urls from the text\n",
    "def extract_urls(text):\n",
    "    pattern = re.compile(r'(https?://\\S+|www\\.\\S+)')\n",
    "    urls = pattern.findall(text)\n",
    "    return urls\n",
    "\n",
    "from urllib.request import urlopen\n",
    "\n",
    "def validate_url(url):\n",
    "    try:\n",
    "        if url.startswith(\"www.\"):\n",
    "            urlopen('http://'+url)\n",
    "        else:\n",
    "            urlopen(url)\n",
    "        return True\n",
    "    except Exception as e:\n",
    "        return False\n",
    "    return False\n",
    "\n",
    "print(validate_url(\"https://bit.ly.google.com/\"))"
   ]
  },
  {
   "cell_type": "code",
   "execution_count": null,
   "id": "c14832cb-62b6-4750-85f5-73a88ba28e52",
   "metadata": {},
   "outputs": [],
   "source": []
  }
 ],
 "metadata": {
  "kernelspec": {
   "display_name": "Python 3 (ipykernel)",
   "language": "python",
   "name": "python3"
  },
  "language_info": {
   "codemirror_mode": {
    "name": "ipython",
    "version": 3
   },
   "file_extension": ".py",
   "mimetype": "text/x-python",
   "name": "python",
   "nbconvert_exporter": "python",
   "pygments_lexer": "ipython3",
   "version": "3.11.9"
  }
 },
 "nbformat": 4,
 "nbformat_minor": 5
}
